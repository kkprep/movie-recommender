{
 "cells": [
  {
   "cell_type": "code",
   "execution_count": 1,
   "metadata": {},
   "outputs": [],
   "source": [
    "# implement RANdom SAmple Concenus (RANSAC) algorithm to detect and remove outliers\n",
    "from handleCSV import HandleCSV\n",
    "from numpy import array\n",
    "from scipy.optimize import leastsq\n",
    "from ast import literal_eval"
   ]
  },
  {
   "cell_type": "code",
   "execution_count": 2,
   "metadata": {},
   "outputs": [],
   "source": [
    "csv = HandleCSV(\"movies.csv\")"
   ]
  },
  {
   "cell_type": "code",
   "execution_count": 12,
   "metadata": {},
   "outputs": [
    {
     "name": "stdout",
     "output_type": "stream",
     "text": [
      "[[224000.0, 1283.0, 1073394593.0], [224000.0, 1283.0, 1073394593.0]]\n",
      "[7.7, 7.7]\n"
     ]
    }
   ],
   "source": [
    "from sklearn.linear_model import LinearRegression\n",
    "while True:\n",
    "    try:\n",
    "        data = csv.getRandomRows(2)\n",
    "\n",
    "        x = []\n",
    "        x.append(list(data[0][[\"numOfRatings\", \"popularity\", \"gross\"]]))\n",
    "        x.append(list(data[1][[\"numOfRatings\", \"popularity\", \"gross\"]]))\n",
    "        \n",
    "        y = list(data[0][[\"rating\"]]) + list(data[1][[\"rating\"]])\n",
    "\n",
    "        model = LinearRegression().fit(x, y)\n",
    "        break\n",
    "    except:\n",
    "        continue\n",
    "print(x)\n",
    "print(y)\n"
   ]
  },
  {
   "cell_type": "code",
   "execution_count": null,
   "metadata": {},
   "outputs": [],
   "source": [
    "model.predict([[10000, 500, 1000000]])"
   ]
  },
  {
   "cell_type": "code",
   "execution_count": null,
   "metadata": {},
   "outputs": [],
   "source": [
    "def __residual(params):\n",
    "    # have 5 parameters\n",
    "    p0, e0, p1, e1, p2, e2, p3, e3, p4, e4 = params\n",
    "    return (p0 ** e0) + (p1 ** e1) + (p2 ** e2) + (p3 ** e3) + (p4 ** e4)"
   ]
  },
  {
   "cell_type": "code",
   "execution_count": 3,
   "metadata": {},
   "outputs": [],
   "source": [
    "from sklearn.linear_model import LinearRegression\n",
    "import traceback\n",
    "\n",
    "def ransac(csv: HandleCSV):\n",
    "    iterations = 0\n",
    "    bestFit = None\n",
    "    bestErr = float(\"inf\")\n",
    "\n",
    "    while iterations < 100:\n",
    "        maybeInliners = []\n",
    "        while True:\n",
    "            try:\n",
    "                data = csv.getRandomRows(2)\n",
    "\n",
    "                x = []\n",
    "                x.append(list(data[0][[\"numOfRatings\", \"popularity\", \"gross\"]]))\n",
    "                x.append(list(data[1][[\"numOfRatings\", \"popularity\", \"gross\"]]))\n",
    "                \n",
    "                y = list(data[0][[\"rating\"]]) + list(data[1][[\"rating\"]])\n",
    "\n",
    "                model = LinearRegression().fit(x, y)\n",
    "                print(x + y)\n",
    "                #print(x)\n",
    "                #print(y)\n",
    "                maybeInliners = [[x[0]] + y[0]] + [[x[1]] + y[1]]\n",
    "                break\n",
    "            except:\n",
    "                traceback.print_exc()\n",
    "                break\n",
    "                continue\n",
    "        #print(maybeInliners)\n",
    "        break\n",
    "\n",
    "\n",
    "        # maybeModel = leastsq(__residual,  maybeInliners)#array([p0, e0, p1, e1, p2, e2]), args=(y, a, b, c))\n",
    "        # alsoInliners = []\n",
    "        # for element in csv.df:\n",
    "        #     if element in maybeInliners:\n",
    "        #         continue\n",
    "        #     __residual(maybeModel, )"
   ]
  },
  {
   "cell_type": "code",
   "execution_count": 4,
   "metadata": {},
   "outputs": [
    {
     "name": "stderr",
     "output_type": "stream",
     "text": [
      "Traceback (most recent call last):\n",
      "  File \"C:\\Users\\admin\\AppData\\Local\\Temp/ipykernel_12156/768831638.py\", line 13, in ransac\n",
      "    data = csv.getRandomRows(2)\n",
      "  File \"c:\\Users\\admin\\Desktop\\duke_mentorship\\code\\src\\handleCSV.py\", line 36, in getRandomRows\n",
      "    r.append(dfCopy[randint(0, length - 2), [\"rating\", \"numOfRatings\", \"popularity\", \"numOfAwards\", \"gross\"]])\n",
      "  File \"C:\\Users\\admin\\AppData\\Local\\Programs\\Python\\Python39\\lib\\site-packages\\pandas\\core\\frame.py\", line 3458, in __getitem__\n",
      "    indexer = self.columns.get_loc(key)\n",
      "  File \"C:\\Users\\admin\\AppData\\Local\\Programs\\Python\\Python39\\lib\\site-packages\\pandas\\core\\indexes\\base.py\", line 3361, in get_loc\n",
      "    return self._engine.get_loc(casted_key)\n",
      "  File \"pandas\\_libs\\index.pyx\", line 76, in pandas._libs.index.IndexEngine.get_loc\n",
      "  File \"pandas\\_libs\\index.pyx\", line 82, in pandas._libs.index.IndexEngine.get_loc\n",
      "TypeError: '(1411, ['rating', 'numOfRatings', 'popularity', 'numOfAwards', 'gross'])' is an invalid key\n"
     ]
    }
   ],
   "source": [
    "ransac(csv)"
   ]
  },
  {
   "cell_type": "code",
   "execution_count": null,
   "metadata": {},
   "outputs": [],
   "source": [
    "# x: all features except \"rating\" | y: \"rating\"\n",
    "\n",
    "def lala(params):\n"
   ]
  },
  {
   "cell_type": "code",
   "execution_count": null,
   "metadata": {},
   "outputs": [],
   "source": [
    "maybeInliners = csv.getRandomRows(2)\n",
    "maybeModel = leastsq(lala, maybeInliners)"
   ]
  }
 ],
 "metadata": {
  "interpreter": {
   "hash": "0ac516125b3ee16d4eaa41f008fade7bad50b808bd1b6d74d2e8ae0015ba9066"
  },
  "kernelspec": {
   "display_name": "Python 3.9.1 64-bit",
   "name": "python3"
  },
  "language_info": {
   "codemirror_mode": {
    "name": "ipython",
    "version": 3
   },
   "file_extension": ".py",
   "mimetype": "text/x-python",
   "name": "python",
   "nbconvert_exporter": "python",
   "pygments_lexer": "ipython3",
   "version": "3.9.1"
  },
  "orig_nbformat": 4
 },
 "nbformat": 4,
 "nbformat_minor": 2
}
